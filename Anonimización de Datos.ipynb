{
 "cells": [
  {
   "cell_type": "code",
   "execution_count": 1,
   "id": "a1acac88",
   "metadata": {},
   "outputs": [],
   "source": [
    "import pandas as pd\n",
    "import numpy as np"
   ]
  },
  {
   "cell_type": "code",
   "execution_count": 2,
   "id": "8712ec6e",
   "metadata": {},
   "outputs": [
    {
     "data": {
      "text/html": [
       "<div>\n",
       "<style scoped>\n",
       "    .dataframe tbody tr th:only-of-type {\n",
       "        vertical-align: middle;\n",
       "    }\n",
       "\n",
       "    .dataframe tbody tr th {\n",
       "        vertical-align: top;\n",
       "    }\n",
       "\n",
       "    .dataframe thead th {\n",
       "        text-align: right;\n",
       "    }\n",
       "</style>\n",
       "<table border=\"1\" class=\"dataframe\">\n",
       "  <thead>\n",
       "    <tr style=\"text-align: right;\">\n",
       "      <th></th>\n",
       "      <th>nombre</th>\n",
       "      <th>email</th>\n",
       "      <th>edad</th>\n",
       "      <th>ubicacion</th>\n",
       "      <th>salario</th>\n",
       "      <th>banco</th>\n",
       "    </tr>\n",
       "  </thead>\n",
       "  <tbody>\n",
       "    <tr>\n",
       "      <th>0</th>\n",
       "      <td>Ana</td>\n",
       "      <td>ana@ejemplo.com</td>\n",
       "      <td>22</td>\n",
       "      <td>Ciudad A</td>\n",
       "      <td>55000</td>\n",
       "      <td>Banco 1</td>\n",
       "    </tr>\n",
       "    <tr>\n",
       "      <th>1</th>\n",
       "      <td>Juan</td>\n",
       "      <td>juan@ejemplo.com</td>\n",
       "      <td>37</td>\n",
       "      <td>Ciudad B</td>\n",
       "      <td>34000</td>\n",
       "      <td>Banco 3</td>\n",
       "    </tr>\n",
       "    <tr>\n",
       "      <th>2</th>\n",
       "      <td>Luis</td>\n",
       "      <td>luis@ejemplo.com</td>\n",
       "      <td>15</td>\n",
       "      <td>Ciudad C</td>\n",
       "      <td>76000</td>\n",
       "      <td>Banco 1</td>\n",
       "    </tr>\n",
       "    <tr>\n",
       "      <th>3</th>\n",
       "      <td>Pedro</td>\n",
       "      <td>pedro@ejemplo.com</td>\n",
       "      <td>49</td>\n",
       "      <td>Ciudad D</td>\n",
       "      <td>51000</td>\n",
       "      <td>Banco 2</td>\n",
       "    </tr>\n",
       "    <tr>\n",
       "      <th>4</th>\n",
       "      <td>Silvina</td>\n",
       "      <td>silvina@ejemplo.com</td>\n",
       "      <td>63</td>\n",
       "      <td>Ciudad E</td>\n",
       "      <td>62000</td>\n",
       "      <td>Banco 3</td>\n",
       "    </tr>\n",
       "  </tbody>\n",
       "</table>\n",
       "</div>"
      ],
      "text/plain": [
       "    nombre                email  edad ubicacion  salario    banco\n",
       "0      Ana      ana@ejemplo.com    22  Ciudad A    55000  Banco 1\n",
       "1     Juan     juan@ejemplo.com    37  Ciudad B    34000  Banco 3\n",
       "2     Luis     luis@ejemplo.com    15  Ciudad C    76000  Banco 1\n",
       "3    Pedro    pedro@ejemplo.com    49  Ciudad D    51000  Banco 2\n",
       "4  Silvina  silvina@ejemplo.com    63  Ciudad E    62000  Banco 3"
      ]
     },
     "execution_count": 2,
     "metadata": {},
     "output_type": "execute_result"
    }
   ],
   "source": [
    "data = pd.DataFrame({\n",
    "    'nombre': ['Ana', 'Juan', 'Luis', 'Pedro', 'Silvina'],\n",
    "    'email': ['ana@ejemplo.com', 'juan@ejemplo.com', 'luis@ejemplo.com', 'pedro@ejemplo.com', 'silvina@ejemplo.com'],\n",
    "    'edad': [22, 37, 15, 49, 63],\n",
    "    'ubicacion': ['Ciudad A', 'Ciudad B', 'Ciudad C', 'Ciudad D', 'Ciudad E'],\n",
    "    'salario': [55000, 34000, 76000, 51000, 62000],\n",
    "    'banco': ['Banco 1', 'Banco 3', 'Banco 1', 'Banco 2', 'Banco 3']\n",
    "})\n",
    "\n",
    "data"
   ]
  },
  {
   "cell_type": "code",
   "execution_count": null,
   "id": "e439221c",
   "metadata": {},
   "outputs": [],
   "source": []
  }
 ],
 "metadata": {
  "kernelspec": {
   "display_name": "Python 3 (ipykernel)",
   "language": "python",
   "name": "python3"
  },
  "language_info": {
   "codemirror_mode": {
    "name": "ipython",
    "version": 3
   },
   "file_extension": ".py",
   "mimetype": "text/x-python",
   "name": "python",
   "nbconvert_exporter": "python",
   "pygments_lexer": "ipython3",
   "version": "3.11.5"
  }
 },
 "nbformat": 4,
 "nbformat_minor": 5
}
